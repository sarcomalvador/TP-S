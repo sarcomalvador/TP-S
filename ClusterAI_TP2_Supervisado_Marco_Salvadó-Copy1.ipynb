{
 "cells": [
  {
   "cell_type": "markdown",
   "metadata": {
    "id": "P3ANPsbtkuXj"
   },
   "source": [
    "## **Trabajo Práctico Individual n° 2: Aprendizaje Supervisado**\n",
    "____\n",
    "__Universidad Tecnológica Nacional, Buenos Aires__\\\n",
    "__Ingeniería Industrial__\\\n",
    "__Ciencia de Datos - Curso I5521__\n",
    "____"
   ]
  },
  {
   "cell_type": "markdown",
   "metadata": {
    "id": "cTPsPHb_lWTE"
   },
   "source": [
    "- Nombre: Marco\n",
    "- Apellido: Salvadó\n",
    "- Legajo: 167148.0"
   ]
  },
  {
   "cell_type": "markdown",
   "metadata": {
    "id": "E5W-65MskuXx"
   },
   "source": [
    "En este trabajo práctico aplicaremos algunas técnicas aprendidas para el aprendizaje automático supervisado.\n",
    "\n",
    "Utilizaremos un dataset de airbnb donde buscaremos predecir el precio de las noches de cada hogar en funcion de algunas variables."
   ]
  },
  {
   "cell_type": "markdown",
   "metadata": {
    "id": "mKUpHSLqkuXz"
   },
   "source": [
    "#### Variables:\n",
    "- Unnamed: 0: Variable de contador de registros (no será utilizada en nuetro análisis)\n",
    "- neighbourhood: Barrio donde se encuentra ubicado la casa.\n",
    "- room_type: Tipo de hogar en alquiler.\n",
    "- price: Precio por noche.\n",
    "- minimum_nights: Cantidad minimas de noches que pueden alquilar el hogar.\n",
    "- number_of_reviews: Cantidad de reviews\n",
    "- reviews_per_month: Tasa de reviews que tienen por mes\n",
    "- calculated_host_listings_count: Cantidad de hogares ofrecidos por el host.\n",
    "- availability_365: Cantidad de dias que se encuentra en alquiler el hogar"
   ]
  },
  {
   "cell_type": "markdown",
   "metadata": {
    "id": "hWk9Vqs8l5jg"
   },
   "source": [
    "## **Objetivos del trabajo practico**\n",
    "- resolver los requisitos que se detallan en las proximas celdas\n",
    "- dejar comentarios # en cada linea de codigo que se agregue\n",
    "- fecha limite de entrega: 13 de Octubre 2022 a las 23h59"
   ]
  },
  {
   "cell_type": "code",
   "execution_count": 1,
   "metadata": {
    "id": "7VzMW3fvkuX0"
   },
   "outputs": [],
   "source": [
    "## Importo librerías de maniupulación de datos\n",
    "import pandas as pd\n",
    "import numpy as np\n",
    "import seaborn as sns\n",
    "import matplotlib.pyplot as plt"
   ]
  },
  {
   "cell_type": "code",
   "execution_count": 2,
   "metadata": {
    "id": "NFgDAUVLNfhE"
   },
   "outputs": [],
   "source": [
    "## Importo librerías de Aprendizaje automático\n",
    "from sklearn import preprocessing\n",
    "from sklearn import linear_model\n",
    "from sklearn.model_selection import train_test_split, cross_val_score\n",
    "from sklearn.metrics import r2_score, mean_squared_error\n",
    "from sklearn.utils import shuffle\n",
    "from sklearn.preprocessing import StandardScaler\n",
    "from sklearn import preprocessing\n",
    "from sklearn.preprocessing import LabelEncoder\n",
    "from sklearn.linear_model import LinearRegression\n",
    "from sklearn.svm import SVR, LinearSVR\n",
    "from sklearn.metrics import mean_squared_error, make_scorer\n",
    "from sklearn.model_selection import GridSearchCV"
   ]
  },
  {
   "cell_type": "markdown",
   "metadata": {
    "id": "v7h4SOeAkuX4"
   },
   "source": [
    "##### **Objetivo 1**\n",
    "Lo primero que deberan hacer será importar\n",
    "- el dataset bajo en nombre \"london\"\n",
    "- corroborar que lo hayamos cargado correctamente."
   ]
  },
  {
   "cell_type": "code",
   "execution_count": 3,
   "metadata": {
    "id": "2EOIgMedmgBM"
   },
   "outputs": [
    {
     "data": {
      "text/html": [
       "<div>\n",
       "<style scoped>\n",
       "    .dataframe tbody tr th:only-of-type {\n",
       "        vertical-align: middle;\n",
       "    }\n",
       "\n",
       "    .dataframe tbody tr th {\n",
       "        vertical-align: top;\n",
       "    }\n",
       "\n",
       "    .dataframe thead th {\n",
       "        text-align: right;\n",
       "    }\n",
       "</style>\n",
       "<table border=\"1\" class=\"dataframe\">\n",
       "  <thead>\n",
       "    <tr style=\"text-align: right;\">\n",
       "      <th></th>\n",
       "      <th>Unnamed: 0</th>\n",
       "      <th>neighbourhood</th>\n",
       "      <th>room_type</th>\n",
       "      <th>price</th>\n",
       "      <th>minimum_nights</th>\n",
       "      <th>number_of_reviews</th>\n",
       "      <th>reviews_per_month</th>\n",
       "      <th>calculated_host_listings_count</th>\n",
       "      <th>availability_365</th>\n",
       "    </tr>\n",
       "  </thead>\n",
       "  <tbody>\n",
       "    <tr>\n",
       "      <th>0</th>\n",
       "      <td>0</td>\n",
       "      <td>Haringey</td>\n",
       "      <td>Private room</td>\n",
       "      <td>35</td>\n",
       "      <td>1</td>\n",
       "      <td>131</td>\n",
       "      <td>1.71</td>\n",
       "      <td>4</td>\n",
       "      <td>262</td>\n",
       "    </tr>\n",
       "    <tr>\n",
       "      <th>1</th>\n",
       "      <td>1</td>\n",
       "      <td>Ealing</td>\n",
       "      <td>Private room</td>\n",
       "      <td>70</td>\n",
       "      <td>2</td>\n",
       "      <td>2</td>\n",
       "      <td>0.07</td>\n",
       "      <td>6</td>\n",
       "      <td>62</td>\n",
       "    </tr>\n",
       "    <tr>\n",
       "      <th>2</th>\n",
       "      <td>2</td>\n",
       "      <td>Islington</td>\n",
       "      <td>Private room</td>\n",
       "      <td>45</td>\n",
       "      <td>1</td>\n",
       "      <td>14</td>\n",
       "      <td>0.14</td>\n",
       "      <td>2</td>\n",
       "      <td>364</td>\n",
       "    </tr>\n",
       "    <tr>\n",
       "      <th>3</th>\n",
       "      <td>5</td>\n",
       "      <td>Tower Hamlets</td>\n",
       "      <td>Entire home/apt</td>\n",
       "      <td>102</td>\n",
       "      <td>5</td>\n",
       "      <td>7</td>\n",
       "      <td>0.07</td>\n",
       "      <td>56</td>\n",
       "      <td>295</td>\n",
       "    </tr>\n",
       "    <tr>\n",
       "      <th>4</th>\n",
       "      <td>6</td>\n",
       "      <td>Barnet</td>\n",
       "      <td>Private room</td>\n",
       "      <td>29</td>\n",
       "      <td>5</td>\n",
       "      <td>114</td>\n",
       "      <td>1.13</td>\n",
       "      <td>3</td>\n",
       "      <td>285</td>\n",
       "    </tr>\n",
       "  </tbody>\n",
       "</table>\n",
       "</div>"
      ],
      "text/plain": [
       "   Unnamed: 0  neighbourhood        room_type  price  minimum_nights  \\\n",
       "0           0       Haringey     Private room     35               1   \n",
       "1           1         Ealing     Private room     70               2   \n",
       "2           2      Islington     Private room     45               1   \n",
       "3           5  Tower Hamlets  Entire home/apt    102               5   \n",
       "4           6         Barnet     Private room     29               5   \n",
       "\n",
       "   number_of_reviews  reviews_per_month  calculated_host_listings_count  \\\n",
       "0                131               1.71                               4   \n",
       "1                  2               0.07                               6   \n",
       "2                 14               0.14                               2   \n",
       "3                  7               0.07                              56   \n",
       "4                114               1.13                               3   \n",
       "\n",
       "   availability_365  \n",
       "0               262  \n",
       "1                62  \n",
       "2               364  \n",
       "3               295  \n",
       "4               285  "
      ]
     },
     "execution_count": 3,
     "metadata": {},
     "output_type": "execute_result"
    }
   ],
   "source": [
    "# Utilizando la librería Pandas se importa el dataset\n",
    "london=pd.read_csv(r'C:\\Users\\marco\\Desktop\\subir a cs de datos\\TP2\\TP2_airbnb_london.csv')\n",
    "london.head()"
   ]
  },
  {
   "cell_type": "markdown",
   "metadata": {
    "id": "LFZY1u8XkuX5"
   },
   "source": [
    "##### **Objetivo 2**\n",
    "Ahora imprimir también las dimensiones del dataset y eliminar la variable \"Unnamed:0\" del dataset.\n",
    "Volver a guardar el dataset sin esta variable bajo el nombre \"london\" "
   ]
  },
  {
   "cell_type": "code",
   "execution_count": 4,
   "metadata": {
    "id": "V6WzWe1JkuX7"
   },
   "outputs": [
    {
     "name": "stdout",
     "output_type": "stream",
     "text": [
      "(51827, 9)\n",
      "(51827, 8)\n"
     ]
    }
   ],
   "source": [
    "# Imprimo dimensiones\n",
    "print(london.shape)\n",
    "#Elimino la variable Unnamed\n",
    "london = london.drop(['Unnamed: 0'],axis=1)\n",
    "#Imprimo dimensiones nuevamente para compobar\n",
    "print(london.shape)"
   ]
  },
  {
   "cell_type": "markdown",
   "metadata": {
    "id": "i6rbeiRvkuX8"
   },
   "source": [
    "##### **Objetivo 3**\n",
    "Corroborar que el dataset no cuenta con valores nulos, si los hubiera llenarlos todos con 0."
   ]
  },
  {
   "cell_type": "code",
   "execution_count": 5,
   "metadata": {
    "id": "huJVDzyTkuX8"
   },
   "outputs": [
    {
     "data": {
      "text/plain": [
       "neighbourhood                     0\n",
       "room_type                         0\n",
       "price                             0\n",
       "minimum_nights                    0\n",
       "number_of_reviews                 0\n",
       "reviews_per_month                 0\n",
       "calculated_host_listings_count    0\n",
       "availability_365                  0\n",
       "dtype: int64"
      ]
     },
     "execution_count": 5,
     "metadata": {},
     "output_type": "execute_result"
    }
   ],
   "source": [
    "london.isnull().sum().sort_values(ascending=False)"
   ]
  },
  {
   "cell_type": "markdown",
   "metadata": {
    "id": "J5K3hnLhkuX9"
   },
   "source": [
    "##### **Objetivo 4**\n",
    "Mostrar el tipo de dato para las variables \"neighbourhood\" y \"room_type\"."
   ]
  },
  {
   "cell_type": "code",
   "execution_count": 6,
   "metadata": {
    "id": "buyjxSDNkuX-"
   },
   "outputs": [
    {
     "name": "stdout",
     "output_type": "stream",
     "text": [
      "El tipo de dato para neighbourhood es:\n",
      "<class 'str'>\n",
      "El tipo de dato para room_type es:\n",
      "<class 'str'>\n"
     ]
    }
   ],
   "source": [
    "print('El tipo de dato para neighbourhood es:') \n",
    "print(type('neighbourhood')) \n",
    "\n",
    "print('El tipo de dato para room_type es:') \n",
    "print(type('room_type'))"
   ]
  },
  {
   "cell_type": "markdown",
   "metadata": {
    "id": "-Pif7gnqkuX-"
   },
   "source": [
    "##### **Objetivo 5**\n",
    "Generar las variables dummies para estas dos variables categóricas y unirlas al dataset london.\n"
   ]
  },
  {
   "cell_type": "code",
   "execution_count": 7,
   "metadata": {
    "id": "WQ2GszPKNfhI"
   },
   "outputs": [],
   "source": [
    "# Genero las dummies para la variable neighbourhood, dentro de la variable neigh_dummies.\n",
    "neigh_dummies = pd.get_dummies(london['neighbourhood'])"
   ]
  },
  {
   "cell_type": "markdown",
   "metadata": {
    "id": "D9raTKcGNfhJ"
   },
   "source": [
    "Imprimir las dimensiones y primeras lineas de estas dummies"
   ]
  },
  {
   "cell_type": "code",
   "execution_count": 8,
   "metadata": {
    "id": "x5aYhwWcNfhJ"
   },
   "outputs": [
    {
     "name": "stdout",
     "output_type": "stream",
     "text": [
      "(51827, 33)\n"
     ]
    },
    {
     "data": {
      "text/html": [
       "<div>\n",
       "<style scoped>\n",
       "    .dataframe tbody tr th:only-of-type {\n",
       "        vertical-align: middle;\n",
       "    }\n",
       "\n",
       "    .dataframe tbody tr th {\n",
       "        vertical-align: top;\n",
       "    }\n",
       "\n",
       "    .dataframe thead th {\n",
       "        text-align: right;\n",
       "    }\n",
       "</style>\n",
       "<table border=\"1\" class=\"dataframe\">\n",
       "  <thead>\n",
       "    <tr style=\"text-align: right;\">\n",
       "      <th></th>\n",
       "      <th>Barking and Dagenham</th>\n",
       "      <th>Barnet</th>\n",
       "      <th>Bexley</th>\n",
       "      <th>Brent</th>\n",
       "      <th>Bromley</th>\n",
       "      <th>Camden</th>\n",
       "      <th>City of London</th>\n",
       "      <th>Croydon</th>\n",
       "      <th>Ealing</th>\n",
       "      <th>Enfield</th>\n",
       "      <th>...</th>\n",
       "      <th>Merton</th>\n",
       "      <th>Newham</th>\n",
       "      <th>Redbridge</th>\n",
       "      <th>Richmond upon Thames</th>\n",
       "      <th>Southwark</th>\n",
       "      <th>Sutton</th>\n",
       "      <th>Tower Hamlets</th>\n",
       "      <th>Waltham Forest</th>\n",
       "      <th>Wandsworth</th>\n",
       "      <th>Westminster</th>\n",
       "    </tr>\n",
       "  </thead>\n",
       "  <tbody>\n",
       "    <tr>\n",
       "      <th>0</th>\n",
       "      <td>0</td>\n",
       "      <td>0</td>\n",
       "      <td>0</td>\n",
       "      <td>0</td>\n",
       "      <td>0</td>\n",
       "      <td>0</td>\n",
       "      <td>0</td>\n",
       "      <td>0</td>\n",
       "      <td>0</td>\n",
       "      <td>0</td>\n",
       "      <td>...</td>\n",
       "      <td>0</td>\n",
       "      <td>0</td>\n",
       "      <td>0</td>\n",
       "      <td>0</td>\n",
       "      <td>0</td>\n",
       "      <td>0</td>\n",
       "      <td>0</td>\n",
       "      <td>0</td>\n",
       "      <td>0</td>\n",
       "      <td>0</td>\n",
       "    </tr>\n",
       "    <tr>\n",
       "      <th>1</th>\n",
       "      <td>0</td>\n",
       "      <td>0</td>\n",
       "      <td>0</td>\n",
       "      <td>0</td>\n",
       "      <td>0</td>\n",
       "      <td>0</td>\n",
       "      <td>0</td>\n",
       "      <td>0</td>\n",
       "      <td>1</td>\n",
       "      <td>0</td>\n",
       "      <td>...</td>\n",
       "      <td>0</td>\n",
       "      <td>0</td>\n",
       "      <td>0</td>\n",
       "      <td>0</td>\n",
       "      <td>0</td>\n",
       "      <td>0</td>\n",
       "      <td>0</td>\n",
       "      <td>0</td>\n",
       "      <td>0</td>\n",
       "      <td>0</td>\n",
       "    </tr>\n",
       "    <tr>\n",
       "      <th>2</th>\n",
       "      <td>0</td>\n",
       "      <td>0</td>\n",
       "      <td>0</td>\n",
       "      <td>0</td>\n",
       "      <td>0</td>\n",
       "      <td>0</td>\n",
       "      <td>0</td>\n",
       "      <td>0</td>\n",
       "      <td>0</td>\n",
       "      <td>0</td>\n",
       "      <td>...</td>\n",
       "      <td>0</td>\n",
       "      <td>0</td>\n",
       "      <td>0</td>\n",
       "      <td>0</td>\n",
       "      <td>0</td>\n",
       "      <td>0</td>\n",
       "      <td>0</td>\n",
       "      <td>0</td>\n",
       "      <td>0</td>\n",
       "      <td>0</td>\n",
       "    </tr>\n",
       "    <tr>\n",
       "      <th>3</th>\n",
       "      <td>0</td>\n",
       "      <td>0</td>\n",
       "      <td>0</td>\n",
       "      <td>0</td>\n",
       "      <td>0</td>\n",
       "      <td>0</td>\n",
       "      <td>0</td>\n",
       "      <td>0</td>\n",
       "      <td>0</td>\n",
       "      <td>0</td>\n",
       "      <td>...</td>\n",
       "      <td>0</td>\n",
       "      <td>0</td>\n",
       "      <td>0</td>\n",
       "      <td>0</td>\n",
       "      <td>0</td>\n",
       "      <td>0</td>\n",
       "      <td>1</td>\n",
       "      <td>0</td>\n",
       "      <td>0</td>\n",
       "      <td>0</td>\n",
       "    </tr>\n",
       "    <tr>\n",
       "      <th>4</th>\n",
       "      <td>0</td>\n",
       "      <td>1</td>\n",
       "      <td>0</td>\n",
       "      <td>0</td>\n",
       "      <td>0</td>\n",
       "      <td>0</td>\n",
       "      <td>0</td>\n",
       "      <td>0</td>\n",
       "      <td>0</td>\n",
       "      <td>0</td>\n",
       "      <td>...</td>\n",
       "      <td>0</td>\n",
       "      <td>0</td>\n",
       "      <td>0</td>\n",
       "      <td>0</td>\n",
       "      <td>0</td>\n",
       "      <td>0</td>\n",
       "      <td>0</td>\n",
       "      <td>0</td>\n",
       "      <td>0</td>\n",
       "      <td>0</td>\n",
       "    </tr>\n",
       "  </tbody>\n",
       "</table>\n",
       "<p>5 rows × 33 columns</p>\n",
       "</div>"
      ],
      "text/plain": [
       "   Barking and Dagenham  Barnet  Bexley  Brent  Bromley  Camden  \\\n",
       "0                     0       0       0      0        0       0   \n",
       "1                     0       0       0      0        0       0   \n",
       "2                     0       0       0      0        0       0   \n",
       "3                     0       0       0      0        0       0   \n",
       "4                     0       1       0      0        0       0   \n",
       "\n",
       "   City of London  Croydon  Ealing  Enfield  ...  Merton  Newham  Redbridge  \\\n",
       "0               0        0       0        0  ...       0       0          0   \n",
       "1               0        0       1        0  ...       0       0          0   \n",
       "2               0        0       0        0  ...       0       0          0   \n",
       "3               0        0       0        0  ...       0       0          0   \n",
       "4               0        0       0        0  ...       0       0          0   \n",
       "\n",
       "   Richmond upon Thames  Southwark  Sutton  Tower Hamlets  Waltham Forest  \\\n",
       "0                     0          0       0              0               0   \n",
       "1                     0          0       0              0               0   \n",
       "2                     0          0       0              0               0   \n",
       "3                     0          0       0              1               0   \n",
       "4                     0          0       0              0               0   \n",
       "\n",
       "   Wandsworth  Westminster  \n",
       "0           0            0  \n",
       "1           0            0  \n",
       "2           0            0  \n",
       "3           0            0  \n",
       "4           0            0  \n",
       "\n",
       "[5 rows x 33 columns]"
      ]
     },
     "execution_count": 8,
     "metadata": {},
     "output_type": "execute_result"
    }
   ],
   "source": [
    "# Imprimo dimensiones para neighbourhood\n",
    "print(neigh_dummies.shape)\n",
    "#Primeras líneas de Neighbourhood dummies\n",
    "neigh_dummies.head()"
   ]
  },
  {
   "cell_type": "code",
   "execution_count": 9,
   "metadata": {},
   "outputs": [],
   "source": [
    "# Genero las dummies para la variable room_tpye, dentro de la variable room_dumies.\n",
    "room_dummies = pd.get_dummies(london['room_type'])"
   ]
  },
  {
   "cell_type": "code",
   "execution_count": 10,
   "metadata": {
    "id": "ehoVgr9NNfhJ"
   },
   "outputs": [
    {
     "name": "stdout",
     "output_type": "stream",
     "text": [
      "(51827, 3)\n"
     ]
    },
    {
     "data": {
      "text/html": [
       "<div>\n",
       "<style scoped>\n",
       "    .dataframe tbody tr th:only-of-type {\n",
       "        vertical-align: middle;\n",
       "    }\n",
       "\n",
       "    .dataframe tbody tr th {\n",
       "        vertical-align: top;\n",
       "    }\n",
       "\n",
       "    .dataframe thead th {\n",
       "        text-align: right;\n",
       "    }\n",
       "</style>\n",
       "<table border=\"1\" class=\"dataframe\">\n",
       "  <thead>\n",
       "    <tr style=\"text-align: right;\">\n",
       "      <th></th>\n",
       "      <th>Entire home/apt</th>\n",
       "      <th>Private room</th>\n",
       "      <th>Shared room</th>\n",
       "    </tr>\n",
       "  </thead>\n",
       "  <tbody>\n",
       "    <tr>\n",
       "      <th>0</th>\n",
       "      <td>0</td>\n",
       "      <td>1</td>\n",
       "      <td>0</td>\n",
       "    </tr>\n",
       "    <tr>\n",
       "      <th>1</th>\n",
       "      <td>0</td>\n",
       "      <td>1</td>\n",
       "      <td>0</td>\n",
       "    </tr>\n",
       "    <tr>\n",
       "      <th>2</th>\n",
       "      <td>0</td>\n",
       "      <td>1</td>\n",
       "      <td>0</td>\n",
       "    </tr>\n",
       "    <tr>\n",
       "      <th>3</th>\n",
       "      <td>1</td>\n",
       "      <td>0</td>\n",
       "      <td>0</td>\n",
       "    </tr>\n",
       "    <tr>\n",
       "      <th>4</th>\n",
       "      <td>0</td>\n",
       "      <td>1</td>\n",
       "      <td>0</td>\n",
       "    </tr>\n",
       "  </tbody>\n",
       "</table>\n",
       "</div>"
      ],
      "text/plain": [
       "   Entire home/apt  Private room  Shared room\n",
       "0                0             1            0\n",
       "1                0             1            0\n",
       "2                0             1            0\n",
       "3                1             0            0\n",
       "4                0             1            0"
      ]
     },
     "execution_count": 10,
     "metadata": {},
     "output_type": "execute_result"
    }
   ],
   "source": [
    "# Imprimo dimensiones para room_type\n",
    "print(room_dummies.shape)\n",
    "#Primeras líneas de room_type dummies\n",
    "room_dummies.head()"
   ]
  },
  {
   "cell_type": "markdown",
   "metadata": {
    "id": "c8CG_MEdkuX-"
   },
   "source": [
    "Joinear las variables dummies al dataset\n",
    "\n"
   ]
  },
  {
   "cell_type": "code",
   "execution_count": 11,
   "metadata": {
    "id": "3Q0w7z_uNfhK"
   },
   "outputs": [
    {
     "data": {
      "text/html": [
       "<div>\n",
       "<style scoped>\n",
       "    .dataframe tbody tr th:only-of-type {\n",
       "        vertical-align: middle;\n",
       "    }\n",
       "\n",
       "    .dataframe tbody tr th {\n",
       "        vertical-align: top;\n",
       "    }\n",
       "\n",
       "    .dataframe thead th {\n",
       "        text-align: right;\n",
       "    }\n",
       "</style>\n",
       "<table border=\"1\" class=\"dataframe\">\n",
       "  <thead>\n",
       "    <tr style=\"text-align: right;\">\n",
       "      <th></th>\n",
       "      <th>neighbourhood</th>\n",
       "      <th>room_type</th>\n",
       "      <th>price</th>\n",
       "      <th>minimum_nights</th>\n",
       "      <th>number_of_reviews</th>\n",
       "      <th>reviews_per_month</th>\n",
       "      <th>calculated_host_listings_count</th>\n",
       "      <th>availability_365</th>\n",
       "      <th>Entire home/apt</th>\n",
       "      <th>Private room</th>\n",
       "      <th>...</th>\n",
       "      <th>Merton</th>\n",
       "      <th>Newham</th>\n",
       "      <th>Redbridge</th>\n",
       "      <th>Richmond upon Thames</th>\n",
       "      <th>Southwark</th>\n",
       "      <th>Sutton</th>\n",
       "      <th>Tower Hamlets</th>\n",
       "      <th>Waltham Forest</th>\n",
       "      <th>Wandsworth</th>\n",
       "      <th>Westminster</th>\n",
       "    </tr>\n",
       "  </thead>\n",
       "  <tbody>\n",
       "    <tr>\n",
       "      <th>0</th>\n",
       "      <td>Haringey</td>\n",
       "      <td>Private room</td>\n",
       "      <td>35</td>\n",
       "      <td>1</td>\n",
       "      <td>131</td>\n",
       "      <td>1.71</td>\n",
       "      <td>4</td>\n",
       "      <td>262</td>\n",
       "      <td>0</td>\n",
       "      <td>1</td>\n",
       "      <td>...</td>\n",
       "      <td>0</td>\n",
       "      <td>0</td>\n",
       "      <td>0</td>\n",
       "      <td>0</td>\n",
       "      <td>0</td>\n",
       "      <td>0</td>\n",
       "      <td>0</td>\n",
       "      <td>0</td>\n",
       "      <td>0</td>\n",
       "      <td>0</td>\n",
       "    </tr>\n",
       "    <tr>\n",
       "      <th>1</th>\n",
       "      <td>Ealing</td>\n",
       "      <td>Private room</td>\n",
       "      <td>70</td>\n",
       "      <td>2</td>\n",
       "      <td>2</td>\n",
       "      <td>0.07</td>\n",
       "      <td>6</td>\n",
       "      <td>62</td>\n",
       "      <td>0</td>\n",
       "      <td>1</td>\n",
       "      <td>...</td>\n",
       "      <td>0</td>\n",
       "      <td>0</td>\n",
       "      <td>0</td>\n",
       "      <td>0</td>\n",
       "      <td>0</td>\n",
       "      <td>0</td>\n",
       "      <td>0</td>\n",
       "      <td>0</td>\n",
       "      <td>0</td>\n",
       "      <td>0</td>\n",
       "    </tr>\n",
       "    <tr>\n",
       "      <th>2</th>\n",
       "      <td>Islington</td>\n",
       "      <td>Private room</td>\n",
       "      <td>45</td>\n",
       "      <td>1</td>\n",
       "      <td>14</td>\n",
       "      <td>0.14</td>\n",
       "      <td>2</td>\n",
       "      <td>364</td>\n",
       "      <td>0</td>\n",
       "      <td>1</td>\n",
       "      <td>...</td>\n",
       "      <td>0</td>\n",
       "      <td>0</td>\n",
       "      <td>0</td>\n",
       "      <td>0</td>\n",
       "      <td>0</td>\n",
       "      <td>0</td>\n",
       "      <td>0</td>\n",
       "      <td>0</td>\n",
       "      <td>0</td>\n",
       "      <td>0</td>\n",
       "    </tr>\n",
       "    <tr>\n",
       "      <th>3</th>\n",
       "      <td>Tower Hamlets</td>\n",
       "      <td>Entire home/apt</td>\n",
       "      <td>102</td>\n",
       "      <td>5</td>\n",
       "      <td>7</td>\n",
       "      <td>0.07</td>\n",
       "      <td>56</td>\n",
       "      <td>295</td>\n",
       "      <td>1</td>\n",
       "      <td>0</td>\n",
       "      <td>...</td>\n",
       "      <td>0</td>\n",
       "      <td>0</td>\n",
       "      <td>0</td>\n",
       "      <td>0</td>\n",
       "      <td>0</td>\n",
       "      <td>0</td>\n",
       "      <td>1</td>\n",
       "      <td>0</td>\n",
       "      <td>0</td>\n",
       "      <td>0</td>\n",
       "    </tr>\n",
       "    <tr>\n",
       "      <th>4</th>\n",
       "      <td>Barnet</td>\n",
       "      <td>Private room</td>\n",
       "      <td>29</td>\n",
       "      <td>5</td>\n",
       "      <td>114</td>\n",
       "      <td>1.13</td>\n",
       "      <td>3</td>\n",
       "      <td>285</td>\n",
       "      <td>0</td>\n",
       "      <td>1</td>\n",
       "      <td>...</td>\n",
       "      <td>0</td>\n",
       "      <td>0</td>\n",
       "      <td>0</td>\n",
       "      <td>0</td>\n",
       "      <td>0</td>\n",
       "      <td>0</td>\n",
       "      <td>0</td>\n",
       "      <td>0</td>\n",
       "      <td>0</td>\n",
       "      <td>0</td>\n",
       "    </tr>\n",
       "  </tbody>\n",
       "</table>\n",
       "<p>5 rows × 44 columns</p>\n",
       "</div>"
      ],
      "text/plain": [
       "   neighbourhood        room_type  price  minimum_nights  number_of_reviews  \\\n",
       "0       Haringey     Private room     35               1                131   \n",
       "1         Ealing     Private room     70               2                  2   \n",
       "2      Islington     Private room     45               1                 14   \n",
       "3  Tower Hamlets  Entire home/apt    102               5                  7   \n",
       "4         Barnet     Private room     29               5                114   \n",
       "\n",
       "   reviews_per_month  calculated_host_listings_count  availability_365  \\\n",
       "0               1.71                               4               262   \n",
       "1               0.07                               6                62   \n",
       "2               0.14                               2               364   \n",
       "3               0.07                              56               295   \n",
       "4               1.13                               3               285   \n",
       "\n",
       "   Entire home/apt  Private room  ...  Merton  Newham  Redbridge  \\\n",
       "0                0             1  ...       0       0          0   \n",
       "1                0             1  ...       0       0          0   \n",
       "2                0             1  ...       0       0          0   \n",
       "3                1             0  ...       0       0          0   \n",
       "4                0             1  ...       0       0          0   \n",
       "\n",
       "   Richmond upon Thames  Southwark  Sutton  Tower Hamlets  Waltham Forest  \\\n",
       "0                     0          0       0              0               0   \n",
       "1                     0          0       0              0               0   \n",
       "2                     0          0       0              0               0   \n",
       "3                     0          0       0              1               0   \n",
       "4                     0          0       0              0               0   \n",
       "\n",
       "   Wandsworth  Westminster  \n",
       "0           0            0  \n",
       "1           0            0  \n",
       "2           0            0  \n",
       "3           0            0  \n",
       "4           0            0  \n",
       "\n",
       "[5 rows x 44 columns]"
      ]
     },
     "execution_count": 11,
     "metadata": {},
     "output_type": "execute_result"
    }
   ],
   "source": [
    "london = pd.concat([london, room_dummies,neigh_dummies],axis=1)\n",
    "london.head()"
   ]
  },
  {
   "cell_type": "code",
   "execution_count": 12,
   "metadata": {},
   "outputs": [],
   "source": [
    "#se tomaron una fraccion de muestras random para poder fitear el SVM en mi CPU.\n",
    "london=london.sample(frac = 0.15)"
   ]
  },
  {
   "cell_type": "markdown",
   "metadata": {
    "id": "qjPPQtG6kuX_"
   },
   "source": [
    "##### Dividiremos nuestro dataset en la variable dependiente \"y\" (label o etiqueta) y las variables independientes \"x\""
   ]
  },
  {
   "cell_type": "code",
   "execution_count": 13,
   "metadata": {
    "id": "1TZWtiVTkuX_"
   },
   "outputs": [],
   "source": [
    "Y = np.array(london[[\"price\"]])\n",
    "X = london.drop(['price', 'neighbourhood','room_type'], axis=1)"
   ]
  },
  {
   "cell_type": "markdown",
   "metadata": {
    "id": "s-2ujF5MkuYA"
   },
   "source": [
    "##### **Objetivo 7**\n",
    "\n",
    "Dividir el dataset entre Train y Test, tomar un test_size del 30%."
   ]
  },
  {
   "cell_type": "code",
   "execution_count": 14,
   "metadata": {
    "id": "SBepVVKIkuYA"
   },
   "outputs": [
    {
     "name": "stdout",
     "output_type": "stream",
     "text": [
      "(5441, 41)\n",
      "(5441, 1)\n"
     ]
    }
   ],
   "source": [
    "# Separar train y test\n",
    "from sklearn.model_selection import train_test_split\n",
    "x_train, x_test, y_train, y_test = train_test_split(X, Y, test_size=0.3, random_state=4) \n",
    "print(x_train.shape)\n",
    "print(y_train.shape)"
   ]
  },
  {
   "cell_type": "code",
   "execution_count": 15,
   "metadata": {},
   "outputs": [
    {
     "data": {
      "text/html": [
       "<div>\n",
       "<style scoped>\n",
       "    .dataframe tbody tr th:only-of-type {\n",
       "        vertical-align: middle;\n",
       "    }\n",
       "\n",
       "    .dataframe tbody tr th {\n",
       "        vertical-align: top;\n",
       "    }\n",
       "\n",
       "    .dataframe thead th {\n",
       "        text-align: right;\n",
       "    }\n",
       "</style>\n",
       "<table border=\"1\" class=\"dataframe\">\n",
       "  <thead>\n",
       "    <tr style=\"text-align: right;\">\n",
       "      <th></th>\n",
       "      <th>minimum_nights</th>\n",
       "      <th>number_of_reviews</th>\n",
       "      <th>reviews_per_month</th>\n",
       "      <th>calculated_host_listings_count</th>\n",
       "      <th>availability_365</th>\n",
       "      <th>Entire home/apt</th>\n",
       "      <th>Private room</th>\n",
       "      <th>Shared room</th>\n",
       "      <th>Barking and Dagenham</th>\n",
       "      <th>Barnet</th>\n",
       "      <th>...</th>\n",
       "      <th>Merton</th>\n",
       "      <th>Newham</th>\n",
       "      <th>Redbridge</th>\n",
       "      <th>Richmond upon Thames</th>\n",
       "      <th>Southwark</th>\n",
       "      <th>Sutton</th>\n",
       "      <th>Tower Hamlets</th>\n",
       "      <th>Waltham Forest</th>\n",
       "      <th>Wandsworth</th>\n",
       "      <th>Westminster</th>\n",
       "    </tr>\n",
       "  </thead>\n",
       "  <tbody>\n",
       "    <tr>\n",
       "      <th>15117</th>\n",
       "      <td>1</td>\n",
       "      <td>3</td>\n",
       "      <td>0.12</td>\n",
       "      <td>1</td>\n",
       "      <td>363</td>\n",
       "      <td>1</td>\n",
       "      <td>0</td>\n",
       "      <td>0</td>\n",
       "      <td>0</td>\n",
       "      <td>0</td>\n",
       "      <td>...</td>\n",
       "      <td>0</td>\n",
       "      <td>0</td>\n",
       "      <td>0</td>\n",
       "      <td>0</td>\n",
       "      <td>0</td>\n",
       "      <td>0</td>\n",
       "      <td>0</td>\n",
       "      <td>0</td>\n",
       "      <td>0</td>\n",
       "      <td>0</td>\n",
       "    </tr>\n",
       "    <tr>\n",
       "      <th>5421</th>\n",
       "      <td>5</td>\n",
       "      <td>16</td>\n",
       "      <td>0.38</td>\n",
       "      <td>2</td>\n",
       "      <td>356</td>\n",
       "      <td>0</td>\n",
       "      <td>1</td>\n",
       "      <td>0</td>\n",
       "      <td>0</td>\n",
       "      <td>0</td>\n",
       "      <td>...</td>\n",
       "      <td>0</td>\n",
       "      <td>0</td>\n",
       "      <td>0</td>\n",
       "      <td>0</td>\n",
       "      <td>0</td>\n",
       "      <td>0</td>\n",
       "      <td>1</td>\n",
       "      <td>0</td>\n",
       "      <td>0</td>\n",
       "      <td>0</td>\n",
       "    </tr>\n",
       "    <tr>\n",
       "      <th>23535</th>\n",
       "      <td>5</td>\n",
       "      <td>1</td>\n",
       "      <td>0.05</td>\n",
       "      <td>1</td>\n",
       "      <td>0</td>\n",
       "      <td>0</td>\n",
       "      <td>1</td>\n",
       "      <td>0</td>\n",
       "      <td>0</td>\n",
       "      <td>0</td>\n",
       "      <td>...</td>\n",
       "      <td>0</td>\n",
       "      <td>0</td>\n",
       "      <td>0</td>\n",
       "      <td>0</td>\n",
       "      <td>0</td>\n",
       "      <td>0</td>\n",
       "      <td>0</td>\n",
       "      <td>0</td>\n",
       "      <td>1</td>\n",
       "      <td>0</td>\n",
       "    </tr>\n",
       "    <tr>\n",
       "      <th>18548</th>\n",
       "      <td>1</td>\n",
       "      <td>1</td>\n",
       "      <td>0.04</td>\n",
       "      <td>1</td>\n",
       "      <td>0</td>\n",
       "      <td>0</td>\n",
       "      <td>1</td>\n",
       "      <td>0</td>\n",
       "      <td>0</td>\n",
       "      <td>0</td>\n",
       "      <td>...</td>\n",
       "      <td>0</td>\n",
       "      <td>0</td>\n",
       "      <td>0</td>\n",
       "      <td>0</td>\n",
       "      <td>0</td>\n",
       "      <td>0</td>\n",
       "      <td>0</td>\n",
       "      <td>0</td>\n",
       "      <td>0</td>\n",
       "      <td>0</td>\n",
       "    </tr>\n",
       "    <tr>\n",
       "      <th>17119</th>\n",
       "      <td>2</td>\n",
       "      <td>54</td>\n",
       "      <td>2.09</td>\n",
       "      <td>1</td>\n",
       "      <td>132</td>\n",
       "      <td>1</td>\n",
       "      <td>0</td>\n",
       "      <td>0</td>\n",
       "      <td>0</td>\n",
       "      <td>0</td>\n",
       "      <td>...</td>\n",
       "      <td>0</td>\n",
       "      <td>0</td>\n",
       "      <td>0</td>\n",
       "      <td>0</td>\n",
       "      <td>0</td>\n",
       "      <td>0</td>\n",
       "      <td>0</td>\n",
       "      <td>0</td>\n",
       "      <td>0</td>\n",
       "      <td>0</td>\n",
       "    </tr>\n",
       "  </tbody>\n",
       "</table>\n",
       "<p>5 rows × 41 columns</p>\n",
       "</div>"
      ],
      "text/plain": [
       "       minimum_nights  number_of_reviews  reviews_per_month  \\\n",
       "15117               1                  3               0.12   \n",
       "5421                5                 16               0.38   \n",
       "23535               5                  1               0.05   \n",
       "18548               1                  1               0.04   \n",
       "17119               2                 54               2.09   \n",
       "\n",
       "       calculated_host_listings_count  availability_365  Entire home/apt  \\\n",
       "15117                               1               363                1   \n",
       "5421                                2               356                0   \n",
       "23535                               1                 0                0   \n",
       "18548                               1                 0                0   \n",
       "17119                               1               132                1   \n",
       "\n",
       "       Private room  Shared room  Barking and Dagenham  Barnet  ...  Merton  \\\n",
       "15117             0            0                     0       0  ...       0   \n",
       "5421              1            0                     0       0  ...       0   \n",
       "23535             1            0                     0       0  ...       0   \n",
       "18548             1            0                     0       0  ...       0   \n",
       "17119             0            0                     0       0  ...       0   \n",
       "\n",
       "       Newham  Redbridge  Richmond upon Thames  Southwark  Sutton  \\\n",
       "15117       0          0                     0          0       0   \n",
       "5421        0          0                     0          0       0   \n",
       "23535       0          0                     0          0       0   \n",
       "18548       0          0                     0          0       0   \n",
       "17119       0          0                     0          0       0   \n",
       "\n",
       "       Tower Hamlets  Waltham Forest  Wandsworth  Westminster  \n",
       "15117              0               0           0            0  \n",
       "5421               1               0           0            0  \n",
       "23535              0               0           1            0  \n",
       "18548              0               0           0            0  \n",
       "17119              0               0           0            0  \n",
       "\n",
       "[5 rows x 41 columns]"
      ]
     },
     "execution_count": 15,
     "metadata": {},
     "output_type": "execute_result"
    }
   ],
   "source": [
    "x_train.head()"
   ]
  },
  {
   "cell_type": "code",
   "execution_count": 16,
   "metadata": {},
   "outputs": [],
   "source": [
    "#Separo dummies \n",
    "x_train_no_dummies=x_train.iloc[:, 0:5] # Primeras cinco columnas\n",
    "\n",
    "x_test_no_dummies=x_test.iloc[:, 0:5] # Primeras cinco columnas\n"
   ]
  },
  {
   "cell_type": "code",
   "execution_count": 17,
   "metadata": {},
   "outputs": [],
   "source": [
    "#variables reales\n",
    "x_train_dummies=x_train.iloc[:, 5:]\n",
    "x_test_dummies=x_test.iloc[:, 5:]"
   ]
  },
  {
   "cell_type": "code",
   "execution_count": 18,
   "metadata": {},
   "outputs": [
    {
     "data": {
      "text/html": [
       "<div>\n",
       "<style scoped>\n",
       "    .dataframe tbody tr th:only-of-type {\n",
       "        vertical-align: middle;\n",
       "    }\n",
       "\n",
       "    .dataframe tbody tr th {\n",
       "        vertical-align: top;\n",
       "    }\n",
       "\n",
       "    .dataframe thead th {\n",
       "        text-align: right;\n",
       "    }\n",
       "</style>\n",
       "<table border=\"1\" class=\"dataframe\">\n",
       "  <thead>\n",
       "    <tr style=\"text-align: right;\">\n",
       "      <th></th>\n",
       "      <th>Entire home/apt</th>\n",
       "      <th>Private room</th>\n",
       "      <th>Shared room</th>\n",
       "      <th>Barking and Dagenham</th>\n",
       "      <th>Barnet</th>\n",
       "      <th>Bexley</th>\n",
       "      <th>Brent</th>\n",
       "      <th>Bromley</th>\n",
       "      <th>Camden</th>\n",
       "      <th>City of London</th>\n",
       "      <th>...</th>\n",
       "      <th>Merton</th>\n",
       "      <th>Newham</th>\n",
       "      <th>Redbridge</th>\n",
       "      <th>Richmond upon Thames</th>\n",
       "      <th>Southwark</th>\n",
       "      <th>Sutton</th>\n",
       "      <th>Tower Hamlets</th>\n",
       "      <th>Waltham Forest</th>\n",
       "      <th>Wandsworth</th>\n",
       "      <th>Westminster</th>\n",
       "    </tr>\n",
       "  </thead>\n",
       "  <tbody>\n",
       "    <tr>\n",
       "      <th>31881</th>\n",
       "      <td>0</td>\n",
       "      <td>1</td>\n",
       "      <td>0</td>\n",
       "      <td>0</td>\n",
       "      <td>0</td>\n",
       "      <td>0</td>\n",
       "      <td>0</td>\n",
       "      <td>0</td>\n",
       "      <td>0</td>\n",
       "      <td>0</td>\n",
       "      <td>...</td>\n",
       "      <td>0</td>\n",
       "      <td>0</td>\n",
       "      <td>0</td>\n",
       "      <td>0</td>\n",
       "      <td>0</td>\n",
       "      <td>0</td>\n",
       "      <td>0</td>\n",
       "      <td>0</td>\n",
       "      <td>0</td>\n",
       "      <td>0</td>\n",
       "    </tr>\n",
       "    <tr>\n",
       "      <th>21543</th>\n",
       "      <td>0</td>\n",
       "      <td>1</td>\n",
       "      <td>0</td>\n",
       "      <td>0</td>\n",
       "      <td>0</td>\n",
       "      <td>0</td>\n",
       "      <td>0</td>\n",
       "      <td>0</td>\n",
       "      <td>0</td>\n",
       "      <td>0</td>\n",
       "      <td>...</td>\n",
       "      <td>0</td>\n",
       "      <td>0</td>\n",
       "      <td>0</td>\n",
       "      <td>0</td>\n",
       "      <td>0</td>\n",
       "      <td>0</td>\n",
       "      <td>0</td>\n",
       "      <td>0</td>\n",
       "      <td>0</td>\n",
       "      <td>0</td>\n",
       "    </tr>\n",
       "    <tr>\n",
       "      <th>27182</th>\n",
       "      <td>0</td>\n",
       "      <td>1</td>\n",
       "      <td>0</td>\n",
       "      <td>0</td>\n",
       "      <td>0</td>\n",
       "      <td>0</td>\n",
       "      <td>0</td>\n",
       "      <td>0</td>\n",
       "      <td>0</td>\n",
       "      <td>0</td>\n",
       "      <td>...</td>\n",
       "      <td>0</td>\n",
       "      <td>0</td>\n",
       "      <td>0</td>\n",
       "      <td>0</td>\n",
       "      <td>0</td>\n",
       "      <td>0</td>\n",
       "      <td>1</td>\n",
       "      <td>0</td>\n",
       "      <td>0</td>\n",
       "      <td>0</td>\n",
       "    </tr>\n",
       "    <tr>\n",
       "      <th>2369</th>\n",
       "      <td>0</td>\n",
       "      <td>1</td>\n",
       "      <td>0</td>\n",
       "      <td>0</td>\n",
       "      <td>0</td>\n",
       "      <td>0</td>\n",
       "      <td>0</td>\n",
       "      <td>0</td>\n",
       "      <td>0</td>\n",
       "      <td>0</td>\n",
       "      <td>...</td>\n",
       "      <td>0</td>\n",
       "      <td>0</td>\n",
       "      <td>0</td>\n",
       "      <td>0</td>\n",
       "      <td>0</td>\n",
       "      <td>0</td>\n",
       "      <td>0</td>\n",
       "      <td>0</td>\n",
       "      <td>0</td>\n",
       "      <td>0</td>\n",
       "    </tr>\n",
       "    <tr>\n",
       "      <th>19496</th>\n",
       "      <td>0</td>\n",
       "      <td>1</td>\n",
       "      <td>0</td>\n",
       "      <td>0</td>\n",
       "      <td>0</td>\n",
       "      <td>0</td>\n",
       "      <td>0</td>\n",
       "      <td>0</td>\n",
       "      <td>0</td>\n",
       "      <td>0</td>\n",
       "      <td>...</td>\n",
       "      <td>0</td>\n",
       "      <td>0</td>\n",
       "      <td>0</td>\n",
       "      <td>0</td>\n",
       "      <td>0</td>\n",
       "      <td>0</td>\n",
       "      <td>0</td>\n",
       "      <td>0</td>\n",
       "      <td>0</td>\n",
       "      <td>1</td>\n",
       "    </tr>\n",
       "  </tbody>\n",
       "</table>\n",
       "<p>5 rows × 36 columns</p>\n",
       "</div>"
      ],
      "text/plain": [
       "       Entire home/apt  Private room  Shared room  Barking and Dagenham  \\\n",
       "31881                0             1            0                     0   \n",
       "21543                0             1            0                     0   \n",
       "27182                0             1            0                     0   \n",
       "2369                 0             1            0                     0   \n",
       "19496                0             1            0                     0   \n",
       "\n",
       "       Barnet  Bexley  Brent  Bromley  Camden  City of London  ...  Merton  \\\n",
       "31881       0       0      0        0       0               0  ...       0   \n",
       "21543       0       0      0        0       0               0  ...       0   \n",
       "27182       0       0      0        0       0               0  ...       0   \n",
       "2369        0       0      0        0       0               0  ...       0   \n",
       "19496       0       0      0        0       0               0  ...       0   \n",
       "\n",
       "       Newham  Redbridge  Richmond upon Thames  Southwark  Sutton  \\\n",
       "31881       0          0                     0          0       0   \n",
       "21543       0          0                     0          0       0   \n",
       "27182       0          0                     0          0       0   \n",
       "2369        0          0                     0          0       0   \n",
       "19496       0          0                     0          0       0   \n",
       "\n",
       "       Tower Hamlets  Waltham Forest  Wandsworth  Westminster  \n",
       "31881              0               0           0            0  \n",
       "21543              0               0           0            0  \n",
       "27182              1               0           0            0  \n",
       "2369               0               0           0            0  \n",
       "19496              0               0           0            1  \n",
       "\n",
       "[5 rows x 36 columns]"
      ]
     },
     "execution_count": 18,
     "metadata": {},
     "output_type": "execute_result"
    }
   ],
   "source": [
    "x_test_dummies.head()"
   ]
  },
  {
   "cell_type": "markdown",
   "metadata": {
    "id": "mfDnVu6hkuYB"
   },
   "source": [
    "##### **Objetivo 8**\n",
    "Con el StandardScaler generado en la linea siguiente, realizar el transform para el xtrain y xtest guardandolos en nuevas variables llamadas \"xtrain_scal\" y \"xtest_scal\".\n"
   ]
  },
  {
   "cell_type": "code",
   "execution_count": 19,
   "metadata": {
    "id": "QgDYMr1qNfhL"
   },
   "outputs": [],
   "source": [
    "scaler = preprocessing.StandardScaler().fit(x_train_no_dummies)"
   ]
  },
  {
   "cell_type": "code",
   "execution_count": 20,
   "metadata": {
    "id": "PTdTOdUANfhL"
   },
   "outputs": [],
   "source": [
    "xtrain_scal = scaler.transform(x_train_no_dummies)"
   ]
  },
  {
   "cell_type": "code",
   "execution_count": 21,
   "metadata": {
    "id": "xJX0JJI7kuYC"
   },
   "outputs": [],
   "source": [
    "xtest_scal = scaler.transform(x_test_no_dummies)"
   ]
  },
  {
   "cell_type": "code",
   "execution_count": 22,
   "metadata": {},
   "outputs": [],
   "source": [
    "#Se vuelven a concatenar los dummies\n",
    "xtrain_scal = np.concatenate([xtrain_scal, x_train_dummies],axis=1)\n",
    "xtest_scal = np.concatenate([xtest_scal, x_test_dummies],axis=1)"
   ]
  },
  {
   "cell_type": "markdown",
   "metadata": {
    "id": "_hkXK5_ckuYC"
   },
   "source": [
    "##### **Objetivo 9**\n",
    "Crear un modelo lineal y entrenarlo para nuestro dataset.\n",
    "\n",
    "Obtener las predicciones y el \"mean_squared_error\" para el test set."
   ]
  },
  {
   "cell_type": "code",
   "execution_count": 23,
   "metadata": {
    "id": "60x_-aowNfhM"
   },
   "outputs": [],
   "source": [
    "#HAGO REGRESON LINEAL Y KNEIGHBOR\n",
    "#REGRISION L:\n",
    "lm = LinearRegression()\n",
    "\n",
    "#KNEIGH:\n",
    "from sklearn.neighbors import KNeighborsRegressor\n",
    "knn = KNeighborsRegressor(weights = \"distance\")\n",
    "parameters_k = np.arange(20,41,5)\n",
    "parameters_knn = [{'n_neighbors': parameters_k}]\n",
    "regressor_knn = GridSearchCV(knn, parameters_knn, refit = True, cv=5, verbose=True)"
   ]
  },
  {
   "cell_type": "code",
   "execution_count": 24,
   "metadata": {
    "id": "CNBZVUxjNfhM"
   },
   "outputs": [
    {
     "name": "stdout",
     "output_type": "stream",
     "text": [
      "Fitting 5 folds for each of 5 candidates, totalling 25 fits\n"
     ]
    }
   ],
   "source": [
    "#FITEO Y GUARDO PREDICCION EN VARIABLE y_pred\n",
    "#REGRISION L:\n",
    "lm.fit(xtrain_scal, y_train)\n",
    "y_predl = lm.predict(xtest_scal)\n",
    "#KNEIGH:\n",
    "regressor_knn.fit(xtrain_scal, y_train)\n",
    "y_predk = regressor_knn.predict(xtest_scal)"
   ]
  },
  {
   "cell_type": "code",
   "execution_count": 25,
   "metadata": {
    "id": "P8am8EVokuYD"
   },
   "outputs": [
    {
     "name": "stdout",
     "output_type": "stream",
     "text": [
      " REGRISION L:\n",
      "MSE regresion LINEAL: 1589.779756730862\n",
      "\n",
      " KNEIGH:\n",
      "0.48802828899410056\n",
      "{'n_neighbors': 40}\n",
      "MSE regresion LINEAL: 40.18599013087971\n"
     ]
    }
   ],
   "source": [
    "#Evaluacion del modelo\n",
    "print(\" REGRISION L:\")\n",
    "from sklearn import metrics\n",
    "print('MSE regresion LINEAL:',metrics.mean_squared_error(y_test,y_predl))\n",
    "\n",
    "print(\"\\n KNEIGH:\")\n",
    "print(regressor_knn.best_score_)\n",
    "print(regressor_knn.best_params_)\n",
    "ypred2 = regressor_knn.predict(xtest_scal)\n",
    "print('MSE regresion LINEAL:',np.sqrt(mean_squared_error(y_test,y_predk)))\n",
    "\n"
   ]
  },
  {
   "cell_type": "markdown",
   "metadata": {
    "id": "yQpkINPIkuYD"
   },
   "source": [
    "##### **Objetivo 10**\n",
    "Crear un SVM Regressor y un GridSearch para realizar la búsqueda de hiperparámetros.\n",
    "\n",
    "Asignar dos posibles valores para el parámetro \"kernel\", y tres posibles valores para \"C\" y \"gamma\".\n",
    "\n",
    "Setear al parámetro \"refit\" en True y hacer 5 CrossValidation."
   ]
  },
  {
   "cell_type": "code",
   "execution_count": 26,
   "metadata": {
    "id": "cyh2r-iJNfhM"
   },
   "outputs": [],
   "source": [
    "svreg = SVR()"
   ]
  },
  {
   "cell_type": "code",
   "execution_count": 27,
   "metadata": {
    "id": "JK2ZKv6ONfhM"
   },
   "outputs": [],
   "source": [
    "param_svreg = {'kernel':('linear', 'rbf'), 'C':[1, 10,100 ], 'gamma':[ 0.1,1,10]}"
   ]
  },
  {
   "cell_type": "code",
   "execution_count": 28,
   "metadata": {
    "id": "7CD4cIYUkuYE"
   },
   "outputs": [],
   "source": [
    "regressor_svr = GridSearchCV(estimator = svreg, param_grid = param_svreg, cv = 5, n_jobs = -1, verbose = True, refit = True)"
   ]
  },
  {
   "cell_type": "code",
   "execution_count": 29,
   "metadata": {},
   "outputs": [
    {
     "name": "stdout",
     "output_type": "stream",
     "text": [
      "Fitting 5 folds for each of 18 candidates, totalling 90 fits\n"
     ]
    },
    {
     "data": {
      "text/plain": [
       "GridSearchCV(cv=5, estimator=SVR(), n_jobs=-1,\n",
       "             param_grid={'C': [1, 10, 100], 'gamma': [0.1, 1, 10],\n",
       "                         'kernel': ('linear', 'rbf')},\n",
       "             verbose=True)"
      ]
     },
     "execution_count": 29,
     "metadata": {},
     "output_type": "execute_result"
    }
   ],
   "source": [
    "regressor_svr.fit(xtrain_scal, y_train.ravel())"
   ]
  },
  {
   "cell_type": "code",
   "execution_count": null,
   "metadata": {},
   "outputs": [],
   "source": []
  },
  {
   "cell_type": "markdown",
   "metadata": {
    "id": "YOuBv_mfkuYG"
   },
   "source": [
    "##### **Objetivo 11**\n",
    "\n",
    "Mostrar cuales fueron los mejores hiperparámetros y para estos obtener el mean_squared_error en el test set."
   ]
  },
  {
   "cell_type": "code",
   "execution_count": 30,
   "metadata": {
    "id": "HHwCIS0mNfhN"
   },
   "outputs": [
    {
     "data": {
      "text/plain": [
       "{'C': 100, 'gamma': 0.1, 'kernel': 'rbf'}"
      ]
     },
     "execution_count": 30,
     "metadata": {},
     "output_type": "execute_result"
    }
   ],
   "source": [
    "regressor_svr.best_params_"
   ]
  },
  {
   "cell_type": "code",
   "execution_count": 31,
   "metadata": {
    "id": "vlMZBccQNfhN"
   },
   "outputs": [
    {
     "data": {
      "text/plain": [
       "array([31.50715742, 36.9514498 , 36.05650358, ..., 89.52461451,\n",
       "       44.65957228, 24.38477096])"
      ]
     },
     "execution_count": 31,
     "metadata": {},
     "output_type": "execute_result"
    }
   ],
   "source": [
    "y_test_predSVR = regressor_svr.predict(xtest_scal)\n",
    "y_test_predSVR"
   ]
  },
  {
   "cell_type": "code",
   "execution_count": 32,
   "metadata": {
    "id": "fc8mozfEkuYH"
   },
   "outputs": [
    {
     "name": "stdout",
     "output_type": "stream",
     "text": [
      "R^2: 0.4975272937164572\n",
      "Adjusted R^2: 0.48853498426310704\n",
      "MAE: 26.951837753416964\n",
      "MSE: 1638.450441695863\n",
      "RMSE: 40.47777713382818\n"
     ]
    }
   ],
   "source": [
    "np.sqrt(mean_squared_error(y_test, y_test_predSVR))\n",
    "y_test_predSVR = regressor_svr.predict(xtest_scal)\n",
    "# Model Evaluation\n",
    "acc_svm = metrics.r2_score(y_test, y_test_predSVR)\n",
    "print('R^2:', acc_svm)\n",
    "print('Adjusted R^2:',1 - (1-metrics.r2_score(y_test, y_test_predSVR))*(len(y_test)-1)/(len(y_test)-xtest_scal.shape[1]-1))\n",
    "print('MAE:',metrics.mean_absolute_error(y_test, y_test_predSVR))\n",
    "print('MSE:',metrics.mean_squared_error(y_test, y_test_predSVR))\n",
    "print('RMSE:',np.sqrt(metrics.mean_squared_error(y_test, y_test_predSVR)))"
   ]
  },
  {
   "cell_type": "markdown",
   "metadata": {
    "id": "IJQSlAT_kuYH"
   },
   "source": [
    "##### **Objetivo 12**\n",
    "Repetir el objetivo 10 pero ahora seteando nuevos valores para los hiperparámetros mencionados con el objetivo de mejorar las predicciones.\n",
    "\n",
    "Cuales son los mejores hiperparámetros ahora?\n",
    "Obtenemos una mejora en las predicciones?\n",
    "Mostrar los resultados."
   ]
  },
  {
   "cell_type": "code",
   "execution_count": 33,
   "metadata": {
    "id": "LmYGwWhokuYI"
   },
   "outputs": [],
   "source": [
    "svreg = SVR()"
   ]
  },
  {
   "cell_type": "code",
   "execution_count": 34,
   "metadata": {
    "id": "WyMHn-XYn5Uv"
   },
   "outputs": [],
   "source": [
    "param_svreg = {'kernel':('linear', 'rbf'), 'C':[80, 100,120 ], 'gamma':[ 0.005,0.01,0.1]}"
   ]
  },
  {
   "cell_type": "code",
   "execution_count": 35,
   "metadata": {
    "id": "GyUOMDd7kuYI"
   },
   "outputs": [],
   "source": [
    "regressor_svr = GridSearchCV(estimator = svreg, param_grid = param_svreg, cv = 5, n_jobs = -1, verbose = True, refit = True)"
   ]
  },
  {
   "cell_type": "code",
   "execution_count": 36,
   "metadata": {
    "id": "ZJ0-nJNHkuYJ"
   },
   "outputs": [
    {
     "name": "stdout",
     "output_type": "stream",
     "text": [
      "Fitting 5 folds for each of 18 candidates, totalling 90 fits\n"
     ]
    },
    {
     "data": {
      "text/plain": [
       "GridSearchCV(cv=5, estimator=SVR(), n_jobs=-1,\n",
       "             param_grid={'C': [80, 100, 120], 'gamma': [0.005, 0.01, 0.1],\n",
       "                         'kernel': ('linear', 'rbf')},\n",
       "             verbose=True)"
      ]
     },
     "execution_count": 36,
     "metadata": {},
     "output_type": "execute_result"
    }
   ],
   "source": [
    "regressor_svr.fit(xtrain_scal, y_train.ravel())"
   ]
  },
  {
   "cell_type": "code",
   "execution_count": 37,
   "metadata": {},
   "outputs": [
    {
     "data": {
      "text/plain": [
       "{'C': 80, 'gamma': 0.1, 'kernel': 'rbf'}"
      ]
     },
     "execution_count": 37,
     "metadata": {},
     "output_type": "execute_result"
    }
   ],
   "source": [
    "regressor_svr.best_params_"
   ]
  },
  {
   "cell_type": "code",
   "execution_count": 38,
   "metadata": {},
   "outputs": [
    {
     "data": {
      "text/plain": [
       "array([31.92701465, 36.35518307, 36.01223206, ..., 90.00066485,\n",
       "       45.47390059, 24.2869732 ])"
      ]
     },
     "execution_count": 38,
     "metadata": {},
     "output_type": "execute_result"
    }
   ],
   "source": [
    "y_test_predSVR = regressor_svr.predict(xtest_scal)\n",
    "y_test_predSVR"
   ]
  },
  {
   "cell_type": "code",
   "execution_count": 39,
   "metadata": {},
   "outputs": [
    {
     "name": "stdout",
     "output_type": "stream",
     "text": [
      "R^2: 0.4979145846117117\n",
      "Adjusted R^2: 0.4889292061608518\n",
      "MAE: 26.914203740631095\n",
      "MSE: 1637.187573224682\n",
      "RMSE: 40.462174598316906\n"
     ]
    }
   ],
   "source": [
    "np.sqrt(mean_squared_error(y_test, y_test_predSVR))\n",
    "y_test_predSVR = regressor_svr.predict(xtest_scal)\n",
    "# Model Evaluation\n",
    "acc_svm = metrics.r2_score(y_test, y_test_predSVR)\n",
    "print('R^2:', acc_svm)\n",
    "print('Adjusted R^2:',1 - (1-metrics.r2_score(y_test, y_test_predSVR))*(len(y_test)-1)/(len(y_test)-xtest_scal.shape[1]-1))\n",
    "print('MAE:',metrics.mean_absolute_error(y_test, y_test_predSVR))\n",
    "print('MSE:',metrics.mean_squared_error(y_test, y_test_predSVR))\n",
    "print('RMSE:',np.sqrt(metrics.mean_squared_error(y_test, y_test_predSVR)))"
   ]
  }
 ],
 "metadata": {
  "colab": {
   "provenance": []
  },
  "kernelspec": {
   "display_name": "Python 3 (ipykernel)",
   "language": "python",
   "name": "python3"
  },
  "language_info": {
   "codemirror_mode": {
    "name": "ipython",
    "version": 3
   },
   "file_extension": ".py",
   "mimetype": "text/x-python",
   "name": "python",
   "nbconvert_exporter": "python",
   "pygments_lexer": "ipython3",
   "version": "3.9.12"
  },
  "vscode": {
   "interpreter": {
    "hash": "c63d8c7d738c2960218a10995aedf0a7f67a49a231e71037adf0440953cdb45b"
   }
  }
 },
 "nbformat": 4,
 "nbformat_minor": 1
}
